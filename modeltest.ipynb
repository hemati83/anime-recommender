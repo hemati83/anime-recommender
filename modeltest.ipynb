{
 "cells": [
  {
   "cell_type": "code",
   "execution_count": 4,
   "metadata": {},
   "outputs": [
    {
     "name": "stdout",
     "output_type": "stream",
     "text": [
      "['Fullmetal Alchemist: Brotherhood', 'Steins;Gate', 'Gintama°', 'Shingeki no Kyojin Season 3 Part 2', \"Gintama'\", 'Hunter x Hunter (2011)', \"Gintama': Enchousen\", 'Bleach: Sennen Kessen-hen', 'Kaguya-sama wa Kokurasetai: Ultra Romantic', 'Gintama.']\n"
     ]
    }
   ],
   "source": [
    "from sklearn.cluster import SpectralClustering\n",
    "import pandas as pd\n",
    "\n",
    "animes = pd.read_csv(\"./animes.tsv\", sep=\"\\t\")\n",
    "training_data = pd.read_csv(\"./training_data.tsv\", sep=\"\\t\")\n",
    "\n",
    "X = training_data\n",
    "spectral = SpectralClustering(n_clusters=50)\n",
    "cluster_labels = spectral.fit_predict(X)\n",
    "\n",
    "user_in = input(\"Input the title of the anime you enjoyed exactly as it appears on MyAnimeList (CASE-SENSITIVE)\\nIf necessary, copy and paste the title from animes.tsv: \")\n",
    "watched_index = animes[animes[\"title\"] == user_in].index.values\n",
    "target_cluster = cluster_labels[watched_index[0]]\n",
    "\n",
    "# get animes that are in the same cluster\n",
    "matches = []\n",
    "for idx, cluster in enumerate(cluster_labels):\n",
    "    if cluster == target_cluster:\n",
    "        if idx == watched_index: continue\n",
    "        else: matches.append(idx)\n",
    "\n",
    "# display the titles of the top 10 related anime series by rank with desired offset\n",
    "offset = int(input(\"Enter your desired offset (note that higher offsets may lead to lower ranked suggestions): \"))\n",
    "suggestions = []\n",
    "counter = 0\n",
    "for idx in matches[offset:]:\n",
    "    if counter == 10: break\n",
    "    counter += 1\n",
    "    suggestions.append(animes[\"title\"][idx])\n",
    "print(suggestions)\n"
   ]
  }
 ],
 "metadata": {
  "kernelspec": {
   "display_name": "Python 3",
   "language": "python",
   "name": "python3"
  },
  "language_info": {
   "codemirror_mode": {
    "name": "ipython",
    "version": 3
   },
   "file_extension": ".py",
   "mimetype": "text/x-python",
   "name": "python",
   "nbconvert_exporter": "python",
   "pygments_lexer": "ipython3",
   "version": "3.11.9"
  }
 },
 "nbformat": 4,
 "nbformat_minor": 2
}
